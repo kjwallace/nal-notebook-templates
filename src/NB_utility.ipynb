{
 "cells": [
  {
   "cell_type": "code",
   "execution_count": 1,
   "id": "534aa71b-cf09-4084-8a3d-5f15ff3abd58",
   "metadata": {
    "tags": []
   },
   "outputs": [],
   "source": [
    "def hello_world():\n",
    "    print('Hello World!')\n",
    "    return True"
   ]
  },
  {
   "cell_type": "markdown",
   "id": "118d803d-0216-4bbb-9916-b3a59fa61561",
   "metadata": {},
   "source": [
    "---\n",
    "# Function Definition Formatting \n",
    "---"
   ]
  },
  {
   "cell_type": "markdown",
   "id": "8654932b-f3bf-4f24-ba0c-902176ee44a9",
   "metadata": {},
   "source": [
    "## Example Function Definitiom"
   ]
  },
  {
   "cell_type": "markdown",
   "id": "fe893e91-f246-4034-b9f5-5619f60797cf",
   "metadata": {},
   "source": [
    "Function definitions in this notebook should incluse the following things:\n",
    "- Each cell should contain 1 function, and all imports used in the function\n",
    "- Each argument in the function should have a default value and a type associated with it.\n",
    "- Function definition should include the output data type\n",
    "- After function definition should have a multiline documentation string using the format from the example.\n",
    "- Include handling for common errors and validate outputs, reach out to the technical team for any help in this respect.\n",
    "\n",
    "This guide is also useful for adding error handling to your code:\n",
    "- https://pybit.es/articles/pythonic-exceptions/\n",
    "\n",
    "The end goal of these function definitions are to be ported into the New Atlantis pip package, so these standards aim to make the code into a format suitable for publication.\n",
    "Instead of writing a notebook, using a normal python module with the following documentation is also"
   ]
  },
  {
   "cell_type": "markdown",
   "id": "fa30e682-e5e0-4bff-a245-688281223337",
   "metadata": {},
   "source": [
    "### Description (Markdown Cell)"
   ]
  },
  {
   "cell_type": "markdown",
   "id": "7ef97278-2c82-41c2-a3ff-9e0e2ccd7a8d",
   "metadata": {},
   "source": [
    "This function is an example:"
   ]
  },
  {
   "cell_type": "code",
   "execution_count": null,
   "id": "04c65633-a920-48a5-b961-3aab06d8d66e",
   "metadata": {},
   "outputs": [],
   "source": [
    "import pandas as pd\n",
    "import sys\n",
    "\n",
    "def data_loader(path_to_data = None : str) -> pd.DataFrame:\n",
    "    '''\n",
    "    path_to_data:\n",
    "        type: str \n",
    "        Contains the relative path from the notebook to the data being loaded.\n",
    "        returns:\n",
    "            pandas data frame containing data locatd at path\n",
    "    '''\n",
    "    if path_to_data == None:\n",
    "        print('You need to insert a path to the data')\n",
    "        return False\n",
    "    try:\n",
    "        df = pd.read_csv(path_to_data, delimiter = ',')\n",
    "    except Exception as err:\n",
    "        print(f\"Unexpected {err=}, {type(err)=}\")\n",
    "\n",
    "    return df \n"
   ]
  }
 ],
 "metadata": {
  "kernelspec": {
   "display_name": "Python 3 (ipykernel)",
   "language": "python",
   "name": "python3"
  },
  "language_info": {
   "codemirror_mode": {
    "name": "ipython",
    "version": 3
   },
   "file_extension": ".py",
   "mimetype": "text/x-python",
   "name": "python",
   "nbconvert_exporter": "python",
   "pygments_lexer": "ipython3",
   "version": "3.10.9"
  }
 },
 "nbformat": 4,
 "nbformat_minor": 5
}
