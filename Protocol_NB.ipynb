{
 "cells": [
  {
   "cell_type": "markdown",
   "id": "fda4f803-ed8e-4476-92ac-032aa1e0e6c1",
   "metadata": {},
   "source": [
    "![image](https://cdn.discordapp.com/attachments/996200880351215636/1065002848355631165/New_Atlantis.png) "
   ]
  },
  {
   "cell_type": "code",
   "execution_count": null,
   "id": "5571fda8-da5d-4bab-9b2b-ae67a5bdddc0",
   "metadata": {},
   "outputs": [],
   "source": [
    " asi"
   ]
  }
 ],
 "metadata": {
  "kernelspec": {
   "display_name": "Python 3 (ipykernel)",
   "language": "python",
   "name": "python3"
  },
  "language_info": {
   "codemirror_mode": {
    "name": "ipython",
    "version": 3
   },
   "file_extension": ".py",
   "mimetype": "text/x-python",
   "name": "python",
   "nbconvert_exporter": "python",
   "pygments_lexer": "ipython3",
   "version": "3.10.9"
  }
 },
 "nbformat": 4,
 "nbformat_minor": 5
}
