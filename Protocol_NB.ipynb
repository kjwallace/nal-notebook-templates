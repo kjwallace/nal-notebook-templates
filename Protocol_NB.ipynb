{
 "cells": [
  {
   "cell_type": "markdown",
   "id": "fda4f803-ed8e-4476-92ac-032aa1e0e6c1",
   "metadata": {},
   "source": [
    "![image](https://cdn.discordapp.com/attachments/996200880351215636/1065002848355631165/New_Atlantis.png) "
   ]
  },
  {
   "cell_type": "markdown",
   "id": "eca8796f-9194-4528-9e1d-90500464d043",
   "metadata": {},
   "source": [
    "# Introduction"
   ]
  },
  {
   "cell_type": "markdown",
   "id": "76a34005-2a95-41ac-9422-c98f54d71020",
   "metadata": {},
   "source": [
    "The purpose of the Protocol notebook is to serve as a cover page to accompany a tool or protocol. This document can aslo be replaced by a similar formatted markdown document as well."
   ]
  },
  {
   "cell_type": "markdown",
   "id": "da4eecd4-0b11-4ec8-9633-285df5f6e16e",
   "metadata": {},
   "source": [
    "#"
   ]
  },
  {
   "cell_type": "markdown",
   "id": "a0317eb0-5c1a-409d-9e4f-62c97edb54af",
   "metadata": {},
   "source": []
  },
  {
   "cell_type": "markdown",
   "id": "70f9cab7-dea2-473d-bbab-9dd3912a1668",
   "metadata": {},
   "source": []
  },
  {
   "cell_type": "markdown",
   "id": "ee6261dc-6b1b-4395-a0cd-d7439f16f45e",
   "metadata": {},
   "source": []
  },
  {
   "cell_type": "markdown",
   "id": "071e32c8-4c99-4776-9c17-8ee32a61679b",
   "metadata": {},
   "source": []
  },
  {
   "cell_type": "markdown",
   "id": "0c2aa803-6d6e-42d9-8a9d-6f02c27cf980",
   "metadata": {},
   "source": []
  },
  {
   "cell_type": "markdown",
   "id": "d89f23dc-19e2-45ef-ac35-5b4d68a67114",
   "metadata": {},
   "source": []
  },
  {
   "cell_type": "markdown",
   "id": "ca0b71e5-8f4d-4746-892d-1994c271e24d",
   "metadata": {},
   "source": []
  },
  {
   "cell_type": "markdown",
   "id": "a40dd6d4-7589-4777-adf8-b9d8b30eefd2",
   "metadata": {},
   "source": []
  },
  {
   "cell_type": "markdown",
   "id": "650b5fc6-5bcd-4910-9526-71cd161d64b3",
   "metadata": {},
   "source": []
  },
  {
   "cell_type": "markdown",
   "id": "f39ae11c-bda0-4726-bc4a-c3d869524056",
   "metadata": {},
   "source": []
  },
  {
   "cell_type": "markdown",
   "id": "410c545c-5725-4235-96d7-cb8310049208",
   "metadata": {},
   "source": []
  },
  {
   "cell_type": "markdown",
   "id": "4966f544-438e-4e6e-abef-f1c2116ff91b",
   "metadata": {},
   "source": []
  },
  {
   "cell_type": "markdown",
   "id": "728436f4-418c-456f-b3ed-6d030f718c4d",
   "metadata": {},
   "source": []
  },
  {
   "cell_type": "markdown",
   "id": "dfec028b-cf8c-4626-88eb-36aa447291a6",
   "metadata": {},
   "source": []
  },
  {
   "cell_type": "markdown",
   "id": "72bec923-ba0b-4b63-a61d-a9864954a107",
   "metadata": {},
   "source": []
  },
  {
   "cell_type": "markdown",
   "id": "5a7c4efb-880b-4732-a235-974d7325361f",
   "metadata": {},
   "source": []
  },
  {
   "cell_type": "markdown",
   "id": "978c5d46-e0c1-458a-a1ce-81fc9ced9342",
   "metadata": {},
   "source": []
  },
  {
   "cell_type": "markdown",
   "id": "b30769da-616a-4667-80bd-9d7559742828",
   "metadata": {},
   "source": []
  }
 ],
 "metadata": {
  "kernelspec": {
   "display_name": "Python 3 (ipykernel)",
   "language": "python",
   "name": "python3"
  },
  "language_info": {
   "codemirror_mode": {
    "name": "ipython",
    "version": 3
   },
   "file_extension": ".py",
   "mimetype": "text/x-python",
   "name": "python",
   "nbconvert_exporter": "python",
   "pygments_lexer": "ipython3",
   "version": "3.10.9"
  }
 },
 "nbformat": 4,
 "nbformat_minor": 5
}
